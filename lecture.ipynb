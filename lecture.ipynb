{
 "cells": [
  {
   "cell_type": "markdown",
   "metadata": {},
   "source": [
    "# Knapsack"
   ]
  },
  {
   "cell_type": "code",
   "execution_count": 1,
   "metadata": {},
   "outputs": [],
   "source": [
    "import drawSvg as draw\n",
    "import networkx as nx\n",
    "import matplotlib.pyplot as plt"
   ]
  },
  {
   "cell_type": "code",
   "execution_count": 66,
   "metadata": {},
   "outputs": [],
   "source": [
    "dt = DrawingTable()"
   ]
  },
  {
   "cell_type": "markdown",
   "metadata": {},
   "source": [
    "Knapsack is a well-known NP-Hard problem in its general version and NP-Complete in its decisional version.<br>"
   ]
  },
  {
   "cell_type": "markdown",
   "metadata": {},
   "source": [
    "In the general case, we have $n$ items, each one with a specific value $v_i$ and weight $w_i$; we also have a maximum capacity $W$ for the knapsack; we want to find a set of items fitting into the knapsack that maximizes the total value."
   ]
  },
  {
   "cell_type": "markdown",
   "metadata": {},
   "source": [
    "The problem can be formulated in many ways and each variant has many approaches. "
   ]
  },
  {
   "cell_type": "markdown",
   "metadata": {},
   "source": [
    "### Fractional Knapsack"
   ]
  },
  {
   "cell_type": "markdown",
   "metadata": {},
   "source": [
    "A first interesting formulation is the **Fractional Knapsack**. In this case items can be partitioned, so for each one of them we can take just the portion we need to reach the maximum revenue."
   ]
  },
  {
   "cell_type": "markdown",
   "metadata": {},
   "source": [
    "A good **idea** to solve the problem under this conditions is using a **greedy approach**: \n",
    "+ we compute the ratio\n",
    "$\n",
    "\\begin{align*}\n",
    "\\frac{v_i}{w_i}\n",
    "\\end{align*}\n",
    "$\n",
    "for every item \n",
    "+ we sort them according to this ratios in non increasing order\n",
    "+ we take all items (interely) starting from the ones with higher ratio, up to the point where we reach an item $k$ for which<br><br>\n",
    "$\n",
    "\\quad\\quad\\quad\n",
    "\\begin{align*}\n",
    "\\sum_{i=1}^{k-1}{w_i} \\leq W\n",
    "\\end{align*}\n",
    "$\n",
    "and\n",
    "$\n",
    "\\begin{align*}\n",
    "\\sum_{i=1}^{k}{w_i} > W\n",
    "\\end{align*}\n",
    "$<br><br>\n",
    "+ We take just the first portion of the k-th item, $\\tilde{w}_k$, in such a way that<br><br>\n",
    "$\n",
    "\\quad\\quad\\quad\n",
    "\\begin{align*}\n",
    "\\sum_{i=1}^{k-1} {w_i} + \\tilde{w}_k = W\n",
    "\\end{align*}\n",
    "$"
   ]
  },
  {
   "cell_type": "markdown",
   "metadata": {},
   "source": [
    "Here is the code for this solution:"
   ]
  },
  {
   "cell_type": "code",
   "execution_count": 38,
   "metadata": {},
   "outputs": [
    {
     "name": "stdout",
     "output_type": "stream",
     "text": [
      "17.75\n"
     ]
    }
   ],
   "source": [
    "v = [1, 2, 3, 4, 10, 6, 7]\n",
    "w = [3, 4, 5, 6, 7, 8, 9]\n",
    "n = len(v)\n",
    "W = 17\n",
    "\n",
    "def frac_knapsack():\n",
    "    lW = W\n",
    "    r = [(e, i) for (i, e) in enumerate([float(vi)/float(wi) for (vi, wi) in zip(v, w)])]\n",
    "    r.sort(reverse=True)\n",
    "    r = [i for (e, i) in r]\n",
    "    \n",
    "    i, vr = 0, 0\n",
    "    S = set()\n",
    "    while lW - w[r[i]] >= 0:\n",
    "        vr += v[r[i]]\n",
    "        lW -= w[r[i]]\n",
    "        i += 1\n",
    "    \n",
    "    if lW > 0:\n",
    "        vr += float(lW)/float(w[r[i]])*v[r[i]]\n",
    "    \n",
    "    return vr\n",
    "\n",
    "vr = frac_knapsack()\n",
    "print(vr)"
   ]
  },
  {
   "cell_type": "markdown",
   "metadata": {},
   "source": [
    "The solution for this formulation of the problem will be useful when discussing approximate solutions for the version of the problem we are going to consider next."
   ]
  },
  {
   "cell_type": "markdown",
   "metadata": {},
   "source": [
    "### 0/1-Knapsack"
   ]
  },
  {
   "cell_type": "markdown",
   "metadata": {},
   "source": [
    "The formulation we are mostly interested in is the **0/1-Knapsack** problem. In this case we can only decide if we need to take an item or not, we cannot just take a part of it."
   ]
  },
  {
   "cell_type": "markdown",
   "metadata": {},
   "source": [
    "We first see a possible application of the problem and then a more general formulation of this version of the problem."
   ]
  },
  {
   "cell_type": "markdown",
   "metadata": {},
   "source": [
    "#### Application Example"
   ]
  },
  {
   "cell_type": "markdown",
   "metadata": {},
   "source": [
    "We want to implement a file download manager on a server which can transfer data on blocks of $W$ bytes."
   ]
  },
  {
   "cell_type": "markdown",
   "metadata": {},
   "source": [
    "**Input**: $n$ files, for each of them we know:\n",
    "+ size: $w_1, w_2, ..., w_n$\n",
    "+ value: $v_1, v_2, ..., v_n$\n",
    "+ dimension of the block: $W$"
   ]
  },
  {
   "cell_type": "markdown",
   "metadata": {},
   "source": [
    "**Goal**: find a subset of the $n$ files to transfer all together staying withing W bytes and maximizing the value of the files without splitting them."
   ]
  },
  {
   "cell_type": "markdown",
   "metadata": {},
   "source": [
    "#### General Formulation"
   ]
  },
  {
   "cell_type": "markdown",
   "metadata": {},
   "source": [
    "In its general version, the 0/1-Knapsack (or simply Knapsack from now on) accepts $n$ items with their values and weights and tries to fit them inside the knapsack of capacity $W$ without spitting."
   ]
  },
  {
   "cell_type": "markdown",
   "metadata": {},
   "source": [
    "**Input**:<br>\n",
    "+ integer $W$, the max capacity\n",
    "+ integer array $w[]$ of (positive) weights for the $n$ objects\n",
    "+ integer array $v[]$ of values for the $n$ items"
   ]
  },
  {
   "cell_type": "markdown",
   "metadata": {},
   "source": [
    "**Output**:\n",
    "+ a subset $S \\subseteq [1..n]$ which maximizes $\\sum_{i \\in S} v[i]$ under the constraint $\\sum_{i \\in S} w[i] \\leq W$ as we want $S$ to fit into the knapsack."
   ]
  },
  {
   "cell_type": "markdown",
   "metadata": {},
   "source": [
    "Our goal is to find total value for the best possible set $S^*$. We can also find $S^*$ itself with additional polynomial time. <br>\n",
    "In this general formulation Knapsack problem is NP-Hard."
   ]
  },
  {
   "cell_type": "markdown",
   "metadata": {},
   "source": [
    "If we want to know if for the given input there is a subset $S$ for which $\\sum_{i \\in S} v[i] \\geq \\alpha$ then we have a NP-Complete problem, as in this case we have a decisional problem."
   ]
  },
  {
   "cell_type": "markdown",
   "metadata": {},
   "source": [
    "Knapsack is a restricted version of a more general problem, **Partition**. In this problem we want to split a multiset of integers into two groups so that they have the same sum."
   ]
  },
  {
   "cell_type": "markdown",
   "metadata": {},
   "source": [
    "Knapsack problem is a good and illustrative example for studying NPC and NPH problems. It is a hard problem and we will figure this out by aplying the most naive approach, i.e. the **brute-force approach**. Then we will see two possible ways of finding an **exact and optimal solution** and, at last, a couple of ways to **approximate an optimal solution** in polynomial time."
   ]
  },
  {
   "cell_type": "markdown",
   "metadata": {},
   "source": [
    "## Brute-Force Approach"
   ]
  },
  {
   "cell_type": "markdown",
   "metadata": {},
   "source": [
    "The first possible approach is the Brute-Force enumeration of all possible subsets S to find the best one.<br>\n",
    "The cost of this approach is $\\tilde{O}(2^n)$, where $n$ is the number of objects in input.\n",
    ">**Note**: with $\\tilde{O}$ notation we ignore polynomial factors:\n",
    "$$\n",
    "\\tilde{O}(f(n))=O(f(n) \\cdot n^{O(1)})\n",
    "$$"
   ]
  },
  {
   "cell_type": "markdown",
   "metadata": {},
   "source": [
    "Following this approach is equal to generating all binary sequences $B$ of length $n$ such that $S = \\{i \\in [1..n]: B[i]=1\\} $ and $\\sum_{i \\in S} w[i] \\leq W$ and then taking the one that maximizes the total value for the chosen values."
   ]
  },
  {
   "cell_type": "markdown",
   "metadata": {},
   "source": [
    "The following code applies the approche we have described and prints datas and the resulting optimal set, together with the optimal value coming from it."
   ]
  },
  {
   "cell_type": "code",
   "execution_count": 33,
   "metadata": {},
   "outputs": [],
   "source": [
    "v = [2, 7, 4, 10, 11, 1]\n",
    "w = [14, 2, 6, 3, 8, 13]\n",
    "n = len(v)\n",
    "W = 13\n",
    "\n",
    "best, bestS = 0, set()\n",
    "\n",
    "def bruteForce(S = set(), size = 0, sum = 0, i = 0):\n",
    "    global best, bestS\n",
    "    if(i >= n):\n",
    "        if(sum > best):\n",
    "            best = sum\n",
    "            bestS = S\n",
    "    else:\n",
    "        bruteForce(S, size, sum, i+1)\n",
    "        if(size + w[i] <= W):\n",
    "            bruteForce(S.union({i+1}), size + w[i], sum + v[i], i+1)\n",
    "    \n",
    "bruteForce()"
   ]
  },
  {
   "cell_type": "code",
   "execution_count": 34,
   "metadata": {},
   "outputs": [
    {
     "data": {
      "text/html": [
       "<img src=\"data:image/svg+xml;base64,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\">"
      ],
      "text/plain": [
       "<drawSvg.drawing.Drawing at 0x7ff6a5c22610>"
      ]
     },
     "execution_count": 34,
     "metadata": {},
     "output_type": "execute_result"
    }
   ],
   "source": [
    "dt.printData(v, w, S=bestS, val=best, type=\"bf\")"
   ]
  },
  {
   "cell_type": "markdown",
   "metadata": {},
   "source": [
    "In the following plot we can see a graphical representation for the previous example. At each level we can choose two possible paths:\n",
    "+ if we **take** the current element we go to the right\n",
    "+ if we do **not take** the current element we go to the left.\n"
   ]
  },
  {
   "cell_type": "markdown",
   "metadata": {},
   "source": [
    "Exploring all possible paths we eventually find the best one that maximizes the sum of the values.<br>\n",
    "In the following plot the optimal path is enlightened in orange."
   ]
  },
  {
   "cell_type": "code",
   "execution_count": 515,
   "metadata": {},
   "outputs": [
    {
     "data": {
      "image/png": "[encoded data removed]",
      "text/plain": [
       "<Figure size 576x864 with 1 Axes>"
      ]
     },
     "metadata": {},
     "output_type": "display_data"
    }
   ],
   "source": [
    "plot_bf()"
   ]
  },
  {
   "cell_type": "markdown",
   "metadata": {},
   "source": [
    "> $S = \\{2, 4, 5\\}$"
   ]
  },
  {
   "cell_type": "markdown",
   "metadata": {},
   "source": [
    "## Dynamic Programming"
   ]
  },
  {
   "cell_type": "markdown",
   "metadata": {},
   "source": [
    "Another possible approach to solve the Knapsack problem is to use Dynamic Programming."
   ]
  },
  {
   "cell_type": "markdown",
   "metadata": {},
   "source": [
    "The basic idea is to solve the main problem combining the solutions of its possible subproblems.<br>\n",
    "These subproblems can be defined considering:\n",
    "+ the subsets of the first $k$ items, $\\forall k, 0 \\leq k \\leq n$\n",
    "+ all possible values for the capacity, from $0$ to $W$"
   ]
  },
  {
   "cell_type": "markdown",
   "metadata": {},
   "source": [
    "Combining all the possibilities, we get a total of $n * W$ subproblems, with one of them being the original one we want to solve.<br>\n",
    "To solve all these problems we can build a table where each cell stores the optimal value for a given subproblem; we can then start filling the table starting from the easiest subproblems and then compute the solutions for more difficult ones from the solutions we've already computed."
   ]
  },
  {
   "cell_type": "markdown",
   "metadata": {},
   "source": [
    "Finding the optimal value for the cell $T[i][j]$ in the table means finding the solution for the subproblem considering just the first $i$ of the $n$ items while having a maximum capacity of $j$."
   ]
  },
  {
   "cell_type": "markdown",
   "metadata": {},
   "source": [
    "Since any subproblem can be solved from easier ones, we can fill the table row after row, from the top to the bottom, going from the left to the right inside each row."
   ]
  },
  {
   "cell_type": "markdown",
   "metadata": {},
   "source": [
    "When we reach the point of filling the cell $T[i][j]$ in the table, we have two alternatives and we have to choose between them:\n",
    "+ we exclude the $i-th$ element from the optimal set, meaning that the solution for $T[i][j]$ is the same as the one for $T[i-1][j]$\n",
    "+ we include the $i-th$ element into the optimal set, meaning that the solution for $T[i][j]$ is the same as the one for $T[i-1][j-w_i] + v_i$; in fact, if we want to take the $i-th$ element, we have to consider a previous solution in which it surely fits, thus decreasing the value of $j$ by $w_i$"
   ]
  },
  {
   "cell_type": "markdown",
   "metadata": {},
   "source": [
    "Notice that, if the weight of the $i-th$ element is greater than the capacity for the current subproblem, we cannot include it inside the optimal set and we have no choice but to consider the option in whit it is excuded."
   ]
  },
  {
   "cell_type": "markdown",
   "metadata": {},
   "source": [
    "The solution for the cell $T[i][j]$ is the maximum value among those we get from the above options."
   ]
  },
  {
   "cell_type": "markdown",
   "metadata": {},
   "source": [
    "For the base cases, we have that the first row and the first column are filled in with $0$s, since if we have no item or if we have a maximum capacity of $0$ the best value we can get is always $0$."
   ]
  },
  {
   "cell_type": "markdown",
   "metadata": {},
   "source": [
    "The solution for the original problem can be found in $T[n][W]$."
   ]
  },
  {
   "cell_type": "markdown",
   "metadata": {},
   "source": [
    "In the following table we can see a visual representation of the solution for $T[i][j]$."
   ]
  },
  {
   "cell_type": "code",
   "execution_count": 440,
   "metadata": {},
   "outputs": [
    {
     "data": {
      "text/html": [
       "<img src=\"data:image/svg+xml;base64,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\">"
      ],
      "text/plain": [
       "<drawSvg.drawing.Drawing at 0x7f77b769dbb0>"
      ]
     },
     "execution_count": 440,
     "metadata": {},
     "output_type": "execute_result"
    }
   ],
   "source": [
    "optimal_table(version=\"W\")"
   ]
  },
  {
   "cell_type": "markdown",
   "metadata": {},
   "source": [
    "In the following formula we can see exactly how each subproblem can be solved. "
   ]
  },
  {
   "cell_type": "markdown",
   "metadata": {},
   "source": [
    "> $\n",
    "T[i][j] =\n",
    "\\begin{cases} \n",
    "0 & if \\quad i=0\\\\\n",
    "0 & if \\quad j=0\\\\\n",
    "T[i-1][j] & if \\quad j<w_i\\\\\n",
    "max\\{\\\\ \\quad T[i-1][j], \\\\ \\quad T[i-1][j-w_i]+v_i\\;\\} & otherwise\n",
    "\\end{cases}\n",
    "$"
   ]
  },
  {
   "cell_type": "markdown",
   "metadata": {},
   "source": [
    "The following code computes the dynamic programming solution we've discussed so far. The input is the same we've used for the brute-force approach and we can see that the solution we get is the same."
   ]
  },
  {
   "cell_type": "code",
   "execution_count": 57,
   "metadata": {},
   "outputs": [
    {
     "data": {
      "text/html": [
       "<img src=\"data:image/svg+xml;base64,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\">"
      ],
      "text/plain": [
       "<drawSvg.drawing.Drawing at 0x7fcca7671ac0>"
      ]
     },
     "execution_count": 57,
     "metadata": {},
     "output_type": "execute_result"
    }
   ],
   "source": [
    "v = [2, 7, 4, 10, 11, 1]\n",
    "w = [14, 2, 6, 3, 8, 13]\n",
    "n = len(v)\n",
    "W = 13\n",
    "    \n",
    "def dp1():\n",
    "    T = [[0 for j in range(W+1)] for i in range(n+1)]\n",
    "    \n",
    "    #filling the table\n",
    "    for i in range(1, n+1):\n",
    "        for j in range(1, W+1):\n",
    "            if(w[i-1] > j): \n",
    "                T[i][j] = T[i-1][j]\n",
    "            else:\n",
    "                T[i][j] = max(T[i-1][j], T[i-1][j - w[i-1]] + v[i-1])\n",
    "    \n",
    "    #computing optimal set\n",
    "    S, i, j = set(), n, W\n",
    "    while(i>0 and j>0):\n",
    "        if w[i-1] <= j:\n",
    "            if T[i-1][j-w[i-1]] + v[i-1] > T[i-1][j] :\n",
    "                S = S.union({i})\n",
    "                j = j - w[i-1]\n",
    "        i = i-1\n",
    "\n",
    "    return (T, S, T[n][W])\n",
    "    \n",
    "T, bestS, best = dp1()\n",
    "dt.printData(v, w, W=W, val=best, S=bestS, T=T, type=\"dp1\")"
   ]
  },
  {
   "cell_type": "markdown",
   "metadata": {},
   "source": [
    "The total cost of this algorithms is $O(n*W)$, since it simply fills up a table with $n+1$ rows and $W+1$ columns, taking $O(1)$ to fill each cell."
   ]
  },
  {
   "cell_type": "markdown",
   "metadata": {},
   "source": [
    "The computational cost of this algorithm is considered **pseudo-plynomial** as it depends on the value of $W$ and not on the space it occupies (being it an input parameter); since this value can be very high, the table can become very big and the time to find the solution can explode."
   ]
  },
  {
   "cell_type": "markdown",
   "metadata": {},
   "source": [
    "#### How to find the optimal set "
   ]
  },
  {
   "cell_type": "markdown",
   "metadata": {},
   "source": [
    "Once we have the table completely filled, we can retrieve the optimal set in linear time."
   ]
  },
  {
   "cell_type": "markdown",
   "metadata": {},
   "source": [
    "Starting from the cell $T[n][W]$ where we can find the optima value for the complete problem, we go back to the subproblems that contribute to generate this solution. For a general subproblem $T[i][j]$:\n",
    "+ if $w_i > j$ we go back to subproblem $T[i-1][j]$ and we discard the $i-th$ element\n",
    "+ otherwise, we check the maximum between:<br><br>\n",
    " + $T[i-1][j-w_i] + v_i$\n",
    " + $T[i-1][j]$<br>\n",
    "\n"
   ]
  },
  {
   "cell_type": "markdown",
   "metadata": {},
   "source": [
    "> In this case we choose the best one, then, if we've chosen the former option we include the $i-th$ item in the optimal set and move to the subproblem $T[i-1][j- w_i] + v_i$; if we've chosen the latter, we exclude the current item and we move to the subproblem $T[i-1][j]$.\n",
    "+ we repeat this procedure until we get to the first row."
   ]
  },
  {
   "cell_type": "markdown",
   "metadata": {},
   "source": [
    "Since we have a computaional cost of $O(1)$ for each row, we have a total cost of $O(n)$ to find the optimal set."
   ]
  },
  {
   "cell_type": "markdown",
   "metadata": {},
   "source": [
    "In the following table we can see a visual representation of how we can retrieve the optimal set from the complete table."
   ]
  },
  {
   "cell_type": "code",
   "execution_count": 64,
   "metadata": {},
   "outputs": [
    {
     "data": {
      "text/html": [
       "<img src=\"data:image/svg+xml;base64,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\">"
      ],
      "text/plain": [
       "<drawSvg.drawing.Drawing at 0x7fcca5cea610>"
      ]
     },
     "execution_count": 64,
     "metadata": {},
     "output_type": "execute_result"
    }
   ],
   "source": [
    "dt.printSet(v, w, W=W, val=best, S=bestS, T=T, type=\"dp1\")"
   ]
  },
  {
   "cell_type": "markdown",
   "metadata": {},
   "source": [
    "### Dynamic Programming - Profit Knapsack"
   ]
  },
  {
   "cell_type": "markdown",
   "metadata": {},
   "source": [
    "There is another way to solve the Knapsack problem using Dynamic Programming, called the **Profit Knapsack** approach: we can split the main problem in subproblems as before, but this time we consider:\n",
    "+ the subsets of the first $k$ items, $\\forall k, 0 \\leq k \\leq n$\n",
    "+ all possible optimal values, from $0$ to $n * v_{max}$, where $v_{max}$ is the maximum value among all items."
   ]
  },
  {
   "cell_type": "markdown",
   "metadata": {},
   "source": [
    "The approach is much similar to the one we0ve just seen:we build a table where each cell is the optimal solution for a subproblem and we fill every cell computing its value starting from the solutions of subproblems we've already considered."
   ]
  },
  {
   "cell_type": "markdown",
   "metadata": {},
   "source": [
    "This time, though, each subproblem $T[i][j]$ requires us to find the subset of the first $i$ items with a total value of **at least** $j$ that minimizes the sum of their weights."
   ]
  },
  {
   "cell_type": "markdown",
   "metadata": {},
   "source": [
    "As before, when we have to fill the cell $T[i][j]$ in the table, we have two alternatives and we have to choose between them:\n",
    "+ we exclude the $i-th$ element from the optimal set, meaning that the solution for $T[i][j]$ is the same as the one for $T[i-1][j]$\n",
    "+ we include the $i-th$ element into the optimal set, meaning that the solution for $T[i][j]$ is the same as the one for $T[i-1][j-v_i] + w_i$; in fact, to take the $i-th$ element, our best coiche is to go back $v_i$ columns to make the total weight as low as possible, mantaining the total value at least equal to $j$."
   ]
  },
  {
   "cell_type": "markdown",
   "metadata": {},
   "source": [
    "Notice that, if for the current item $i$ we have that $v_i > j$, we can still choose to pick the $i-th$ item; in this case, though, we will minimize between the option of not picking it, paying $T[i-1][j]$, or picking only that item alone, paying only its weight $w_i$. In fact, in this second case, our best option is go back up to the first column to minimize the total weight still staying above a value of $j$, paying, thus, $0+w_i$, since $T[i-1][0]=0$."
   ]
  },
  {
   "cell_type": "markdown",
   "metadata": {},
   "source": [
    "Considering the base cases, we have that all the first column is filled in with $0s$ since to reach at least a value of 0 we can just exclude all items; all the first row, except for the first cell, is filled in with $+\\infty$ since to reach at least a value of $j\\geq1$ with no items we pay, ideally, an infinite weight."
   ]
  },
  {
   "cell_type": "markdown",
   "metadata": {},
   "source": [
    "**Note**: an important property of this solution is that, in every row, all values are non decreasing from left to right. In fact, in the first column we will always have the value of $0$; in a certain row $i$, we have that the value for the cell will be equal to $v_i$ until $v_i = j$ or it will be consistent with the ones from the row above, depending on wich walue is the smallest; from that point on the value in the same row can only increase or stay the same as can be seen from the formula defining the solution for $T[i][j]$."
   ]
  },
  {
   "cell_type": "markdown",
   "metadata": {},
   "source": [
    "The optimal value for the problem can be found looking at the last row: here, for each column, we have the minimum weight that grants the total value to be at least $j$; since values always increase in each row, going from left to right in the last row we reach a cell which is the last one with a value **less or equal than $W$**; the total value corresponging to this cell is the best we can get, since to get a value of at least the one represented by the following column we need a total weight that exceeds the maximum capacity."
   ]
  },
  {
   "cell_type": "markdown",
   "metadata": {},
   "source": [
    "The following table is a visual representation of what has been discussed so far."
   ]
  },
  {
   "cell_type": "code",
   "execution_count": 439,
   "metadata": {},
   "outputs": [
    {
     "data": {
      "text/html": [
       "<img src=\"data:image/svg+xml;base64,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\">"
      ],
      "text/plain": [
       "<drawSvg.drawing.Drawing at 0x7f77b7c7d190>"
      ]
     },
     "execution_count": 439,
     "metadata": {},
     "output_type": "execute_result"
    }
   ],
   "source": [
    "optimal_table(version=\"Vmax\")"
   ]
  },
  {
   "cell_type": "markdown",
   "metadata": {},
   "source": [
    "The following formula simply states in a precise way how the solution for the subproblem $T[i][j]$ can be found."
   ]
  },
  {
   "cell_type": "markdown",
   "metadata": {},
   "source": [
    ">$\n",
    "T[i][j] =\n",
    "\\begin{cases} \n",
    "    0 & if \\quad j=0, \\;\\forall\\: 0 \\leq i \\leq n\\\\\n",
    "    +\\infty & if \\quad i=0, \\;\\forall\\: 1 \\leq j \\leq n*v_{max}\\\\\n",
    "    min\\{ T[i-1][j], w_i \\} & if \\quad j<v_i\\\\\n",
    "    min\\{\\\\ \\quad T[i-1][j], \\\\ \\quad T[i-1][j-v_i]+w_i\\;\\} & otherwise\n",
    "\\end{cases}\n",
    "$"
   ]
  },
  {
   "cell_type": "markdown",
   "metadata": {},
   "source": [
    "The following code solves the Knapsack problem using the profit approach. Notice that, instead of the infinity value in the first row we have used the sum of all the possible weights increased by one, a value that cannot be reached in the computation."
   ]
  },
  {
   "cell_type": "code",
   "execution_count": 67,
   "metadata": {},
   "outputs": [
    {
     "data": {
      "text/html": [
       "<img src=\"data:image/svg+xml;base64,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\">"
      ],
      "text/plain": [
       "<drawSvg.drawing.Drawing at 0x7fcca5e47ca0>"
      ]
     },
     "execution_count": 67,
     "metadata": {},
     "output_type": "execute_result"
    }
   ],
   "source": [
    "v = [2, 7, 4, 10, 11, 1]\n",
    "w = [14, 2, 6, 3, 8, 13]\n",
    "n = len(v)\n",
    "W = 13\n",
    "\n",
    "def dp2():\n",
    "    vmax = max(v)\n",
    "    wsum = sum(w) + 1\n",
    "    \n",
    "    T = [[wsum for j in range(n*vmax + 1)] for i in range(n+1)]\n",
    "    \n",
    "    #filling the table\n",
    "    for i in range(n+1):\n",
    "        T[i][0] = 0\n",
    "    for i in range(1, n+1):\n",
    "        for j in range(1, n*vmax + 1):\n",
    "            if(v[i-1] > j): \n",
    "                T[i][j] = min(T[i-1][j], w[i-1])\n",
    "            else:\n",
    "                T[i][j] = min(T[i-1][j], T[i-1][j - v[i-1]] + w[i-1])\n",
    "\n",
    "    #computing optimal solution\n",
    "    res = -1\n",
    "    while(res < n*vmax and T[n][res+1] <= W):\n",
    "        res = res + 1\n",
    "    \n",
    "    #computing optimal set\n",
    "    S, i, j = set(), n, res\n",
    "    while(i>0 and j>0):\n",
    "        if(v[i-1] > j): \n",
    "            if w[i-1] < T[i-1][j] :\n",
    "                S = S.union({i})\n",
    "                break\n",
    "        else:\n",
    "            if T[i-1][j-v[i-1]] + w[i-1] < T[i-1][j] :\n",
    "                S = S.union({i})\n",
    "                j = j - v[i-1]\n",
    "        i = i-1\n",
    "\n",
    "    return (T, S, res)\n",
    "\n",
    "T, bestS, best = dp2()\n",
    "dt.printData(v, w, W=W, val=best, S=bestS, T=T, type=\"dp2\")"
   ]
  },
  {
   "cell_type": "markdown",
   "metadata": {},
   "source": [
    "The total cost in time for this solution is $O(n^2*v_{max})$, since we have to fill a table with $n+1$ rows and $n*v_{max}+1$ columns."
   ]
  },
  {
   "cell_type": "markdown",
   "metadata": {},
   "source": [
    "As before, we have a pseudo-polynomial solution, since it depends on the value of $v_{max}$ and not on the space we need to represent it (being it a input value). The cost for this solution can grow as fast as the previous one."
   ]
  },
  {
   "cell_type": "markdown",
   "metadata": {},
   "source": [
    "**Note**: since we now, know two possible solutions involving dynamic programming we can choose, from time to time the one with the smaller value between $W$ and $n*v_{max}$. If one of them is significantly smaller than the other, we can get very good performace, but if this does not happen we can always go trhough a very bad scenario."
   ]
  },
  {
   "cell_type": "markdown",
   "metadata": {},
   "source": [
    "#### How to find the optimal set "
   ]
  },
  {
   "cell_type": "markdown",
   "metadata": {},
   "source": [
    "As before, we can compute the optimal set once we have the table completely filled.<br>\n",
    "Assuming that $V$ is the optimal value we have found during the computation, we start from $T[n][V]$ ang we go back to previous subproblems as we did before. For a general subroblem $T[i][j]$:\n",
    "+ if $v_i > j$ we check the minimum between<br><br>\n",
    "    + $T[i-1][j]$\n",
    "    + $w_i$"
   ]
  },
  {
   "cell_type": "markdown",
   "metadata": {},
   "source": [
    "> We choose the best option and in the first case we exclude the $i-th$ element from the optimal set, while in the second one we include it.<br>\n",
    "If we choose the former option, we move to the subproblem $T[i-1][j]$. If we choose the latter we simply stop searching, since we cannot have more items in the optimal set; in fact, in this case we should ideally move to subproblem $T[i-1][0]$ and from there we can only go up until we reach the first row, excluding all the following items."
   ]
  },
  {
   "cell_type": "markdown",
   "metadata": {},
   "source": [
    "+ if $v_i \\leq j$ we check the minimum between:<br><br>\n",
    " + $T[i-1][j]$\n",
    " + $T[i-1][j-v_i] + w_i$"
   ]
  },
  {
   "cell_type": "markdown",
   "metadata": {},
   "source": [
    "> In this case, we simply take the best option and if we choose the former option we exclude the element and move to the subproblem $T[i-1][j]$, while in the latter we include the element in the optimal set and move to subproblem $T[i-1][j-v_i] + w_i$."
   ]
  },
  {
   "cell_type": "markdown",
   "metadata": {},
   "source": [
    "+ we repeat this procedure until we get to the first row or the first column."
   ]
  },
  {
   "cell_type": "markdown",
   "metadata": {},
   "source": [
    "As before, since we have a computaional cost of $O(1)$ for each row, we have a total cost of $O(n)$ to find the optimal set."
   ]
  },
  {
   "cell_type": "markdown",
   "metadata": {},
   "source": [
    "In the following table we can see a visual representation of how we can retrieve the optimal set from the complete table."
   ]
  },
  {
   "cell_type": "code",
   "execution_count": 68,
   "metadata": {},
   "outputs": [
    {
     "data": {
      "text/html": [
       "<img src=\"data:image/svg+xml;base64,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\">"
      ],
      "text/plain": [
       "<drawSvg.drawing.Drawing at 0x7fcca5d19ca0>"
      ]
     },
     "execution_count": 68,
     "metadata": {},
     "output_type": "execute_result"
    }
   ],
   "source": [
    "dt.printSet(v, w, W=W, val=best, S=bestS, T=T, type=\"dp2\")"
   ]
  },
  {
   "cell_type": "markdown",
   "metadata": {},
   "source": [
    "### Summing up"
   ]
  },
  {
   "cell_type": "markdown",
   "metadata": {},
   "source": [
    "We've seen three possible ways to solve the Knapsack problem, summarized below. As we've seen the best we can get if we want an exact solution is an algorithm which runs in pseudo-polynomial time.<br>\n",
    "We will see now how to get a real polynomial time algorithm at the cost of an approximate solution."
   ]
  },
  {
   "cell_type": "markdown",
   "metadata": {},
   "source": [
    "| **Solution** | **Cost in Time** |\n",
    "|:------------:|:--------:|\n",
    "|Brute Force| $\\tilde{O}(2^n)$ |\n",
    "|DP1| $O(n*W)$ |\n",
    "|DP2| $O(n^2*V_{max})$ |"
   ]
  },
  {
   "cell_type": "markdown",
   "metadata": {},
   "source": [
    "## Approximation Algorithms"
   ]
  },
  {
   "cell_type": "markdown",
   "metadata": {},
   "source": [
    "We will now see how we can find a reasonable approximate solution for the Knapsack problem paying a polynomial time.<br>\n",
    "We will firstly define what an **r-approximation** is for an NP-Hard problem and then we're going to find a **2-aproximation** for the Knapsack Problem.<br>\n",
    "At last, we will see a **FPTAS** algorithm for our problem."
   ]
  },
  {
   "cell_type": "markdown",
   "metadata": {},
   "source": [
    "### r-approximation"
   ]
  },
  {
   "cell_type": "markdown",
   "metadata": {},
   "source": [
    "A really useful tool we can use when we need to approximate the optimal solution for an NP-Hard problem $\\Pi$, we generally can have two cases:\n",
    "+ we're dealing with a **minimization problem**, so we need to **minimize** its **cost**\n",
    "+ we're dealing with a **maximization problem**, so we need to **maximize** its **benefit**\n"
   ]
  },
  {
   "cell_type": "markdown",
   "metadata": {},
   "source": [
    "We assume an optimal solution $S^*$ for $\\Pi$ exists and it has a cost $cost(S^*)= \\text{OPT}$."
   ]
  },
  {
   "cell_type": "markdown",
   "metadata": {},
   "source": [
    "**Def. : r-approximation**\n",
    ">An **r-approximation**, with $r>1$, gives a solution $S$ such that:<br><br>\n",
    "$\n",
    "\\begin{align}\n",
    "\\quad\\quad\\quad minimization: \\frac{cost(S)}{\\text{OPT}} \\leq r\n",
    "\\quad\\quad\\quad maximization: \\frac{\\text{OPT}}{cost(S)} \\leq r\n",
    "\\end{align}\n",
    "$<br><br>\n",
    "Sometimes the maximization case is equivalently called \n",
    "$\n",
    "\\begin{align}\n",
    "\\frac{1}{r}-\\text{approximation}\n",
    "\\end{align}\n",
    "$\n",
    "as we can write:<br><br>\n",
    "$\n",
    "\\begin{align}\n",
    "\\quad\\quad\\quad maximization: cost(S) \\leq \\frac{1}{r}~\\text{OPT}\n",
    "\\end{align}\n",
    "$<br><br>"
   ]
  },
  {
   "cell_type": "markdown",
   "metadata": {},
   "source": [
    "Notice that, even though in the maximization case we want to maximize the benefit, we call it $cost(S)$ anyway."
   ]
  },
  {
   "cell_type": "markdown",
   "metadata": {},
   "source": [
    "In many cases, this kind of algorithms can be really useful if they can give us a good approximation ($r$ sufficiently low) in polynomial time."
   ]
  },
  {
   "cell_type": "markdown",
   "metadata": {},
   "source": [
    "### 2-approximation"
   ]
  },
  {
   "cell_type": "markdown",
   "metadata": {},
   "source": [
    "Now we'll see how to apply this idea to the **Knapsack** problem and how we can reach an approximation factor of **$2$**. Similarly as before, the problem is stated as follows:\n"
   ]
  },
  {
   "cell_type": "markdown",
   "metadata": {},
   "source": [
    "**Input**:\n",
    "+ $n$ items\n",
    "+ array of values $v[]$, where $\\forall i \\in [1..n] . v_i > 0$\n",
    "+ array of weights $w[]$, where $\\forall i \\in [1..n] . w_i > 0$\n",
    "+ capacity $W > 0$"
   ]
  },
  {
   "cell_type": "markdown",
   "metadata": {},
   "source": [
    "**Output**:\n",
    "a subset $S \\subseteq [1..n]$ such that:\n",
    "+ the total weight of items in $S$ stays below the capacity: $\\sum_{i \\in S} w_i \\leq W$\n",
    "+ the total value of items in $S$, $\\;\\sum_{i \\in S} v_i\\;$,  is minimized"
   ]
  },
  {
   "cell_type": "markdown",
   "metadata": {},
   "source": [
    "#### First Idea"
   ]
  },
  {
   "cell_type": "markdown",
   "metadata": {},
   "source": [
    "As a first idea to reach a **2-approximation**, we can use a greedy aproach, much similar to the one we've seen at the beginning for the **Fractional Knapsack**: we give priority to items with higer \n",
    "$\n",
    "\\begin{align}\n",
    "\\;\\frac{v_i}{w_i}\\;\n",
    "\\end{align}\n",
    "$ratio, i.e. to the most valuable items."
   ]
  },
  {
   "cell_type": "markdown",
   "metadata": {},
   "source": [
    "We can suppose, w.l.o.g., that items are numbered as follows:<br><br>\n",
    "$\n",
    "\\begin{align}\n",
    "\\quad\\quad\\quad \\frac{v_1}{w_1} \\geq \\frac{v_2}{w_2} \\geq ~...~ \\geq \\frac{v_n}{w_n}\n",
    "\\end{align}\n",
    "$<br><br>\n",
    "if it's not the case, we can always renumber them in such a way that the above property holds."
   ]
  },
  {
   "cell_type": "markdown",
   "metadata": {},
   "source": [
    "Now we can define a simple **greedy** algorithm, where we pick all the items starting from the beginning of the list, until we have room inside the knapsack."
   ]
  },
  {
   "cell_type": "markdown",
   "metadata": {},
   "source": [
    "The following code shows how to implement this simple solution and runs over the same example we used before, just with the items sorted in non increasing order by their ratio ($f$ in the output of the code)."
   ]
  },
  {
   "cell_type": "code",
   "execution_count": 48,
   "metadata": {},
   "outputs": [],
   "source": [
    "def greedy():\n",
    "    global W\n",
    "    S = set()\n",
    "    for i in range(n):\n",
    "        if(w[i] <= W):\n",
    "            S = S.union({i})\n",
    "            W = W - w[i]\n",
    "    costS = 0\n",
    "    for i in S:\n",
    "        costS = costS + v[i]\n",
    "    return (S, costS)"
   ]
  },
  {
   "cell_type": "code",
   "execution_count": 49,
   "metadata": {},
   "outputs": [
    {
     "data": {
      "text/html": [
       "<img src=\"data:image/svg+xml;base64,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\">"
      ],
      "text/plain": [
       "<drawSvg.drawing.Drawing at 0x7ff6a7423a60>"
      ]
     },
     "execution_count": 49,
     "metadata": {},
     "output_type": "execute_result"
    }
   ],
   "source": [
    "v = [7, 10, 11, 4, 2, 1]\n",
    "w = [2, 3, 8, 6, 14, 13]\n",
    "n = len(v)\n",
    "W = 13\n",
    "\n",
    "S, costS = greedy()\n",
    "#printDataGreedy(v, w, W, costS, S)\n",
    "dt.printData(v, w, S=S, val=costS, type=\"greedy\")"
   ]
  },
  {
   "cell_type": "markdown",
   "metadata": {},
   "source": [
    "We see that with a **greedy** approach like this we can get a pretty accurate result; actually in this case the result is exact and returns the same value we got from previous solution, although the optimal reports different indeces since the items were sorted."
   ]
  },
  {
   "cell_type": "markdown",
   "metadata": {},
   "source": [
    "This approach can fail in some cases, though.<br>\n",
    "If we have a series of high ratio items that contribute poorly to the total value and then a lower ratio item that contributes itself much more to the sum, if we do not have the possibility to include this last element inside the solution set we get a very poorly accurate result.\n",
    "Let's see a simple example."
   ]
  },
  {
   "cell_type": "markdown",
   "metadata": {},
   "source": [
    "Suppose we have $n-1$ items with the same value of $w$ and $v$ equal to $1$ and a last $n-th$ value $v_n = W-1$ and a weight $w_n = W$. Also suppose that $W = k*n$, for some large $k > 1$. The following formulas formalize what we've just said."
   ]
  },
  {
   "cell_type": "markdown",
   "metadata": {},
   "source": [
    "$\n",
    "\\begin{align}\n",
    "\\forall i \\in [1..n-1],~~\n",
    "\\frac{v_i}{w_i} = 1 \\quad\n",
    "\\begin{cases}\n",
    "v_1 = v_2 = ... = v_{n-1} = 1\\\\\n",
    "w_1 = w_2 = ... = w_{n-1} = 1\n",
    "\\end{cases}\n",
    "\\end{align}\n",
    "$"
   ]
  },
  {
   "cell_type": "markdown",
   "metadata": {},
   "source": [
    "$\n",
    "\\begin{align}\n",
    "\\quad\\quad\\quad\\quad\\quad\\quad~\n",
    "\\frac{v_n}{w_n} < 1 \\quad\n",
    "\\begin{cases}\n",
    "v_n = W-1\\\\\n",
    "w_n = W\n",
    "\\end{cases}\n",
    "\\end{align}\n",
    "\\quad\\quad$, \n",
    "where $W=kn$ for any large $k>1$"
   ]
  },
  {
   "cell_type": "markdown",
   "metadata": {},
   "source": [
    "In this case we have that all the first $n-1$ items have a ratio of $1$, while the last one have a ratio smaller than $1$, since $n < W$ the first $n-1$ items are all picked, but doing so we must discard the last item, since it's weight is equal to the capacity of the kapsack itself, even though its value alone is grater the the sum of all other values: $\\quad n < W \\Rightarrow n-1 < W-1$ ."
   ]
  },
  {
   "cell_type": "markdown",
   "metadata": {},
   "source": [
    "In the following run of the **greedy** algorithm we can see how it fails on an example like this one. In particular, here we've chosen a value of $k=5$ and a value of $n=10$."
   ]
  },
  {
   "cell_type": "code",
   "execution_count": 50,
   "metadata": {},
   "outputs": [
    {
     "data": {
      "text/html": [
       "<img src=\"data:image/svg+xml;base64,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\">"
      ],
      "text/plain": [
       "<drawSvg.drawing.Drawing at 0x7ff6a7423b80>"
      ]
     },
     "execution_count": 50,
     "metadata": {},
     "output_type": "execute_result"
    }
   ],
   "source": [
    "k = 5\n",
    "n = 10\n",
    "v = [1 for _ in range(n-1)] + [(n*k)-2] + [(n*k)-1]\n",
    "w = [1 for _ in range(n-1)] + [(n*k)-1] + [n*k]\n",
    "W = n*k #here we choose k = 5\n",
    "\n",
    "S, costS = greedy()\n",
    "dt.printData(v, w, val=costS, S=S, type=\"greedy\")"
   ]
  },
  {
   "cell_type": "markdown",
   "metadata": {},
   "source": [
    "Formalizing what we've said and what we've seen in the example, the result from the **greedy** approach is:<br><br>\n",
    "$\n",
    "\\quad\\quad\\quad\n",
    "\\begin{align}\n",
    "cost(S) = m_G = \\sum_{i \\in S} v_i = n-1 \n",
    "\\end{align}\n",
    "$<br>\n",
    "while we have that:<br><br>\n",
    "$\n",
    "\\quad\\quad\\quad\n",
    "OPT = W-1\n",
    "$"
   ]
  },
  {
   "cell_type": "markdown",
   "metadata": {},
   "source": [
    "Thus, we get:<br><br>\n",
    "$\n",
    "\\begin{align}\n",
    "\\quad\\quad\\quad\n",
    "\\frac{OPT}{cost(S)} =\n",
    "\\frac{W-1}{n-1} =\n",
    "\\frac{kn-1}{n-1} \\sim\n",
    "k\n",
    "\\end{align}\n",
    "$"
   ]
  },
  {
   "cell_type": "markdown",
   "metadata": {},
   "source": [
    "If we have a large value of $k$ or at least a $k>2$ like in the running example, we cannot guarantee a **2-approximation**."
   ]
  },
  {
   "cell_type": "markdown",
   "metadata": {},
   "source": [
    "#### 2-approximation"
   ]
  },
  {
   "cell_type": "markdown",
   "metadata": {},
   "source": [
    "To fix the issue, we can add a check at the bottom of the greedy algorithm: if the result coming from this approach, that we will call $m_G$, is smaller than the maximum possible value among all the items, called $v_{max}$, we will return the latter instead of the former. This results in a last step in the algorithm:<br><br>\n",
    "$\n",
    "\\begin{align}\n",
    "\\quad\\quad\\quad\n",
    "return~~ max \\{m_G, v_{max}\\}\n",
    "\\end{align}\n",
    "$,$\\quad\\quad$ \n",
    "where\n",
    "$\n",
    "~~\n",
    "\\begin{align}\n",
    "v_{max} = \\max_{1 \\leq i \\leq n} v_i\n",
    "\\end{align}\n",
    "$<br><br>"
   ]
  },
  {
   "cell_type": "markdown",
   "metadata": {},
   "source": [
    "**Note**:  for this solution to be effective we need to make an assumption: for any input item we need to have that $w_i \\leq W$, otherwise we have no guarantee that the element corresponding to the $v_{max}$ value fits inside the knapsack. This assumption is not penalizing at all: if we have an item for which $w_i > W$, this item will never fit inside the knapsack and will never be considered in any solution, so we can discard it *a priori*."
   ]
  },
  {
   "cell_type": "markdown",
   "metadata": {},
   "source": [
    "The following code implements the **2-approximation** solution, adding the last step that makes the algorithm sufficiently accurate."
   ]
  },
  {
   "cell_type": "code",
   "execution_count": 51,
   "metadata": {},
   "outputs": [],
   "source": [
    "def approx_2():\n",
    "    lW = W\n",
    "    S = set()\n",
    "    for i in range(n):\n",
    "        if(w[i] <= lW):\n",
    "            S = S.union({i+1})\n",
    "            lW = lW - w[i]\n",
    "    \n",
    "    mG = 0\n",
    "    for i in S:\n",
    "        mG = mG + v[i-1]\n",
    "    \n",
    "    vmax, imax = 0, 0\n",
    "    for i, e in enumerate(v):\n",
    "        if(e > vmax):\n",
    "            vmax, imax = e, i\n",
    "    \n",
    "    costS = max(mG, vmax) if w[imax] <= W else mG\n",
    "    if costS > mG and w[imax] <= W:\n",
    "        S = {imax+1}\n",
    "    \n",
    "    return (S, costS)"
   ]
  },
  {
   "cell_type": "markdown",
   "metadata": {},
   "source": [
    "In the following run we have the same input as before and we can see how now the solution is the one we expected."
   ]
  },
  {
   "cell_type": "code",
   "execution_count": 52,
   "metadata": {},
   "outputs": [
    {
     "data": {
      "text/html": [
       "<img src=\"data:image/svg+xml;base64,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\">"
      ],
      "text/plain": [
       "<drawSvg.drawing.Drawing at 0x7ff6a7429fa0>"
      ]
     },
     "execution_count": 52,
     "metadata": {},
     "output_type": "execute_result"
    }
   ],
   "source": [
    "k = 5\n",
    "n = 10\n",
    "v = [1 for _ in range(n-1)] + [(n*k)-1]\n",
    "w = [1 for _ in range(n-1)] + [n*k]\n",
    "W = n*k #here we choose k = 5\n",
    "\n",
    "S, costS = approx_2()\n",
    "dt = DrawingTable()\n",
    "dt.printData(v, w, val=costS, S=S, type=\"greedy\")"
   ]
  },
  {
   "cell_type": "markdown",
   "metadata": {},
   "source": [
    "For a double check we can run the first Dynamic Programming algorithm to check that the solution we get from the 2-approximation algorithm is correct:"
   ]
  },
  {
   "cell_type": "code",
   "execution_count": 53,
   "metadata": {},
   "outputs": [
    {
     "data": {
      "text/html": [
       "<img src=\"data:image/svg+xml;base64,PD94bWwgdmVyc2lvbj0iMS4wIiBlbmNvZGluZz0iVVRGLTgiPz4KPHN2ZyB4bWxucz0iaHR0cDovL3d3dy53My5vcmcvMjAwMC9zdmciIHhtbG5zOnhsaW5rPSJodHRwOi8vd3d3LnczLm9yZy8xOTk5L3hsaW5rIgogICAgIHdpZHRoPSI1NzgiIGhlaWdodD0iMTIwIiB2aWV3Qm94PSIwIC0xMjAgNTc4IDEyMCI+CjxkZWZzPgo8L2RlZnM+Cjx0ZXh0IHg9IjUwIiB5PSItNjAuMCIgZm9udC1zaXplPSIxNiIgZmlsbD0iIzAwMCIgZm9udC1mYW1pbHk9Im1vbm9zcGFjZSI+T3B0aW1hbCB2YWx1ZTogNDk8L3RleHQ+Cjx0ZXh0IHg9IjUwIiB5PSItMzYuMCIgZm9udC1zaXplPSIxNiIgZmlsbD0iIzAwMCIgZm9udC1mYW1pbHk9Im1vbm9zcGFjZSI+T3B0aW1hbCBzZXQ6IHsxMH08L3RleHQ+Cjwvc3ZnPg==\">"
      ],
      "text/plain": [
       "<drawSvg.drawing.Drawing at 0x7ff6a58b3280>"
      ]
     },
     "execution_count": 53,
     "metadata": {},
     "output_type": "execute_result"
    }
   ],
   "source": [
    "T, S, costS = dp1()\n",
    "dt.printData(v, w, W=W, val=costS, S=S, T=T, print_table=False, type=\"dp1\")"
   ]
  },
  {
   "cell_type": "markdown",
   "metadata": {},
   "source": [
    "Let's now see how how the last variation we introduced can guarantee us an actual **2-approximation**.<br>"
   ]
  },
  {
   "cell_type": "markdown",
   "metadata": {},
   "source": [
    "The problem we are considering is a **maximization problem**, thus all we need to prove is that \n",
    "$\n",
    "\\begin{align*}\n",
    "\\frac{OPT}{cost(S)} \\leq 2\n",
    "\\end{align*}\n",
    "$."
   ]
  },
  {
   "cell_type": "markdown",
   "metadata": {},
   "source": [
    "**Observation**: we can find ourselves in **2 cases**:\n",
    "1. if all items fit into $W$, we reach $OPT$ by picking the whole set\n",
    "2. otherwise, some items have to be discarded"
   ]
  },
  {
   "cell_type": "markdown",
   "metadata": {},
   "source": [
    "The non-trivial case is the second one and it is the one we're interested in. The claim we want to prove is the following."
   ]
  },
  {
   "cell_type": "markdown",
   "metadata": {},
   "source": [
    "**Claim**:<br><br>\n",
    "$\n",
    "\\begin{align}\n",
    "\\quad\\quad\\quad\n",
    "\\frac{OPT}{cost(S)} = \\frac{OPT}{\\max\\{m_G, v_{max}\\}} \\leq 2\n",
    "\\end{align}\n",
    "$"
   ]
  },
  {
   "cell_type": "markdown",
   "metadata": {},
   "source": [
    "To prove it, though, we first need to show an implicit argument."
   ]
  },
  {
   "cell_type": "markdown",
   "metadata": {},
   "source": [
    "<hr>"
   ]
  },
  {
   "cell_type": "markdown",
   "metadata": {},
   "source": [
    "#### Upper Bound and Lower Bound argument"
   ]
  },
  {
   "cell_type": "markdown",
   "metadata": {},
   "source": [
    "Since we do not know $OPT$, what we can do to prove an algorithm gives an **r-approximation** is to use an upperbound $UB \\geq OPT$ for the maximization case or a lowerbound $LB \\leq OPT$ for the minimization one:<br><br>\n",
    "$\n",
    "\\begin{align}\n",
    "\\quad\\quad\\quad maximization \\quad\\quad\n",
    "\\frac{OPT}{cost(S)} \\leq \\frac{UB}{cost(S)} \\leq r\\\\\n",
    "\\end{align}\n",
    "$<br><br>\n",
    "$\n",
    "\\begin{align}\n",
    "\\quad\\quad\\quad minimization \\quad\\quad\n",
    "\\frac{cost(S)}{OPT} \\leq \\frac{cost(S)}{LB} \\leq r\n",
    "\\end{align}\n",
    "$"
   ]
  },
  {
   "cell_type": "markdown",
   "metadata": {},
   "source": [
    "If we can prove that $UB \\geq OPT$ (or $LB \\leq OPT$) and that \n",
    "$\n",
    "\\begin{align}\n",
    "\\frac{UB}{cost(S)} \\leq r\\\\\n",
    "\\end{align}\n",
    "$\n",
    "$\n",
    "\\Big(\n",
    "$ or \n",
    "$\n",
    "\\begin{align}\n",
    "\\frac{cost(S)}{LB} \\leq r\n",
    "\\end{align}\n",
    "\\Big)\n",
    "$ we have the proof that \n",
    "$\n",
    "\\begin{align}\n",
    "\\frac{OPT}{cost(S)} \\leq r\n",
    "\\end{align}\n",
    "$\n",
    "$\n",
    "\\Big(\n",
    "$ or \n",
    "$\n",
    "\\begin{align}\n",
    "\\frac{cost(S)}{OPT} \\leq r\n",
    "\\end{align}\n",
    "\\Big)\n",
    "$."
   ]
  },
  {
   "cell_type": "markdown",
   "metadata": {},
   "source": [
    "<hr>"
   ]
  },
  {
   "cell_type": "markdown",
   "metadata": {},
   "source": [
    "Now we are ready to prove our claim."
   ]
  },
  {
   "cell_type": "markdown",
   "metadata": {},
   "source": [
    "#### TODO"
   ]
  },
  {
   "cell_type": "markdown",
   "metadata": {},
   "source": [
    "**Proof**: Assume that $j$ is the first item that does not fit. We have that $\\overline{w_j}$ is the lasrgest prefix of consecutive items that fit:<br><br>\n",
    "$\n",
    "\\quad\\quad\\quad\n",
    "\\begin{align}\n",
    "\\overline{w_j} = \\sum_{i=1}^{j-1} w_i \\leq W, ~ \\quad but \\quad \\sum_{i=1}^{j} w_j > W\n",
    "\\end{align}\n",
    "$\n",
    "<br><br>\n",
    "$\n",
    "\\quad\\quad\\quad\n",
    "\\begin{align}\n",
    "\\overline{v_j} = \\sum_{i=1}^{j-1} v_i\n",
    "\\end{align}\n",
    "$\n"
   ]
  },
  {
   "cell_type": "markdown",
   "metadata": {},
   "source": [
    "The **claim** we want to prove is the following:<br><br>\n",
    "$\n",
    "\\quad\\quad\\quad UB = \\overline{v_j} + v_j > OPT\n",
    "$"
   ]
  },
  {
   "cell_type": "markdown",
   "metadata": {},
   "source": [
    "**Proof**: Suppose that item j can be split into $j~'$ and $j~''$ such that $v_j = v_{j~'} + v_{j~''}$ and $w_j = w_{j~'} + w_{j~''}$, with $w_{j~'}$ fitting perfectly the difference btween $\\overline{w_j}$ and $W$:<br><br>\n",
    "$\n",
    "\\begin{align}\n",
    "\\quad\\quad\\quad \\sum_{i=1}^{j-1} w_i + w_{j~'} = W\n",
    "\\end{align}\n",
    "$\n",
    "<br><br>\n",
    "This way we reach perfectly $OPT$."
   ]
  },
  {
   "cell_type": "markdown",
   "metadata": {},
   "source": [
    "We have **2** possible **cases**:\n",
    "+  $\\quad \\overline{v_j} > v_j ~\\Longrightarrow~ OPT ~<~ 2~\\overline{v_j} ~\\leq~ 2~m_G ~\\leq~ 2\\max\\{m_g, v_{max} \\}$\n",
    "+  $\\quad \\overline{v_j} \\leq v_j ~\\Longrightarrow~ OPT ~<~ 2~{v_j} ~\\leq~ 2~v_{max} ~\\leq~ 2\\max\\{m_g, v_{max} \\}$"
   ]
  },
  {
   "cell_type": "markdown",
   "metadata": {},
   "source": [
    "We can equivalently write:<br><br>\n",
    "$\n",
    "\\quad\\quad\\quad\n",
    "\\begin{align}\n",
    "OPT * \\frac{1}{2} \\leq cost(S)\n",
    "\\end{align}\n",
    "$"
   ]
  },
  {
   "cell_type": "markdown",
   "metadata": {},
   "source": [
    "**\\begin{TODO}**: complete exercise"
   ]
  },
  {
   "cell_type": "markdown",
   "metadata": {},
   "source": [
    "Natural question: \n",
    "$\n",
    "\\begin{align}\n",
    "OPT * (1 - \\epsilon) \\leq cost(S)\n",
    "\\end{align}\n",
    "$?"
   ]
  },
  {
   "cell_type": "markdown",
   "metadata": {},
   "source": [
    "FPTAS (i.e. poly also in $\\frac{1}{\\epsilon}, ~0<\\epsilon<1)$"
   ]
  },
  {
   "cell_type": "markdown",
   "metadata": {},
   "source": [
    "**Exercise**: suppose that $w_i \\leq \\epsilon W$"
   ]
  },
  {
   "cell_type": "markdown",
   "metadata": {},
   "source": [
    "Prove that steps 1+2 give \n",
    "$\n",
    "\\begin{align}\n",
    "OPT * (1 - \\epsilon) \\leq cost(S)\n",
    "\\end{align}\n",
    "$"
   ]
  },
  {
   "cell_type": "markdown",
   "metadata": {},
   "source": [
    "Hint: the first time j does not fit, the knapsack is at least $(1-\\epsilon)$ full"
   ]
  },
  {
   "cell_type": "markdown",
   "metadata": {},
   "source": [
    "**\\end{TODO}**"
   ]
  },
  {
   "cell_type": "markdown",
   "metadata": {},
   "source": [
    "### FPTAS"
   ]
  },
  {
   "cell_type": "markdown",
   "metadata": {},
   "source": [
    "In the general case we assume that $w_i \\leq W$ and for any  $\\epsilon$, with $0 < \\epsilon < 1$ we want to prove that we can approximate the optimal value $OPT$ as follows:<br><br>\n",
    "$\n",
    "\\quad\\quad\\quad\n",
    "OPT~(1-\\epsilon) \\leq cost(S)\n",
    "$<br><br>\n",
    "in running time of $O(n^3~/~\\epsilon)$"
   ]
  },
  {
   "cell_type": "markdown",
   "metadata": {},
   "source": [
    "Let's start from the DP2 **exact** solution we've seen before that we can compute in $O(n^2~v_{max})$."
   ]
  },
  {
   "cell_type": "markdown",
   "metadata": {},
   "source": [
    "**Idea**: since $v_{max}$ can be very large, we scale *all* the values:<br><br>\n",
    "$\n",
    "\\quad\\quad\\quad\n",
    "\\begin{align}\n",
    "v_i \\longrightarrow \\tilde{v_i} = \\Bigl\\lfloor\\frac{v_i}{k}\\Bigr\\rfloor \n",
    "\\end{align}\n",
    "$<br><br>\n",
    "wit $k$ to be fixed."
   ]
  },
  {
   "cell_type": "markdown",
   "metadata": {},
   "source": [
    "So we have:<br>\n",
    "$\\quad\\quad\\quad (A)$. Original Instance: $\\quad v_i, w_i, W$<br>\n",
    "$\\quad\\quad\\quad (B)$. Scaled Instance: $\\quad \\tilde{v_i}, w_i, W$ + __DP2__ exact solution"
   ]
  },
  {
   "cell_type": "markdown",
   "metadata": {},
   "source": [
    "We can state some facts:\n",
    "+ $\\quad S$ is a solution for $(B) \\Rightarrow S$ is a solution for $(A)$, as weights do not change<br>\n",
    "+ $\n",
    "\\quad\n",
    "\\begin{align}\n",
    "{\\tilde{v}}_{max} = \\Bigl\\lfloor\\frac{v_{max}}{k}\\Bigr\\rfloor\n",
    "\\end{align}\n",
    "$"
   ]
  },
  {
   "cell_type": "markdown",
   "metadata": {},
   "source": [
    "Clearly the cost changes (?)"
   ]
  },
  {
   "cell_type": "markdown",
   "metadata": {},
   "source": [
    "**Goal**: chosing\n",
    "$\n",
    "\\begin{align}\n",
    "k=\\frac{\\epsilon~v_{max}}{n}\n",
    "\\end{align}\n",
    "$, the optimal solution $S$ in $(B)$ satisfies<br><br>\n",
    "$\n",
    "\\quad\\quad\\quad\n",
    "\\begin{align}\n",
    "\\sum_{i \\in S} v_i \\geq (1-\\epsilon)~OPT = (1-\\epsilon) \\sum_{i \\in S^*} v_i\n",
    "\\end{align}\n",
    "$<br><br>\n",
    "**Note**: in the first term we have $v_i$, not $\\tilde{v_i}$, as we are using $S$ as a solution in $(A)$."
   ]
  },
  {
   "cell_type": "markdown",
   "metadata": {},
   "source": [
    "Let's start from the fact that<br><br>\n",
    "$\n",
    "\\quad\\quad\\quad\n",
    "\\begin{align}\n",
    "\\tilde{v_i} = \\Bigl\\lfloor\\frac{v_{i}}{k}\\Bigr\\rfloor\n",
    "\\end{align}\n",
    "$\n"
   ]
  },
  {
   "cell_type": "markdown",
   "metadata": {},
   "source": [
    "So, beacuse of the flooring approximation, we have that<br><br>\n",
    "$\n",
    "\\quad\\quad\\quad\n",
    "\\begin{align}\n",
    "\\frac{v_i}{k} - 1 ~\\leq~ \\tilde{v_i} ~\\leq~ \\frac{v_i}{k}\n",
    "\\end{align}\n",
    "$"
   ]
  },
  {
   "cell_type": "markdown",
   "metadata": {},
   "source": [
    "And, multipying by $k$, we get:<br><br>\n",
    "$\\quad\\quad\\quad (i).~~ v_i ~\\geq~ k~\\tilde{v_i}$\n",
    "$\\quad\\quad\\quad (ii).~~ k~\\tilde{v_i} ~\\geq~ {v_i} - k$"
   ]
  },
  {
   "cell_type": "markdown",
   "metadata": {},
   "source": [
    "Now, since $S$ is optimal in $(B)$ and $S^*$ is optimal in $(A)$, $S^*$ cannot be better than $S$ in $(B)$:<br><br>\n",
    "$\n",
    "\\quad\\quad\\quad\n",
    "(iii).~~\n",
    "\\begin{align}\n",
    "\\sum_{i \\in S} \\tilde{v_i} ~\\geq~ \\sum_{i \\in {S^*}} \\tilde{v_i}\n",
    "\\end{align}\n",
    "$"
   ]
  },
  {
   "cell_type": "markdown",
   "metadata": {},
   "source": [
    "Now we have all the necessary tools to proove our __goal__:<br><br>\n",
    "$\n",
    "\\quad\\quad\\quad\\quad\\quad\n",
    "\\begin{align}\n",
    "\\sum_{i \\in S} v_i \\quad&\\geq\\quad\\quad (i)\\\\\n",
    "\\sum_{i \\in S} k~\\tilde{v_i} \\quad&\\geq\\quad\\quad (iii)\\\\ \n",
    "\\sum_{i \\in {S^*}} k~\\tilde{v_i} \\quad&\\geq\\quad\\quad (ii)\\\\ \n",
    "\\sum_{i \\in {S^*}} (v_i-k) \\quad&= \\\\\n",
    "\\sum_{i \\in {S^*}} v_i - |S^*|~k \\quad&\\geq\\quad\\quad \\Bigl(\\sum_{i \\in {S^*}} v_i = OPT ~~~and~~~ |S^*| \\leq n\\Bigr)\\\\ \\\\\n",
    "OPT - k~n \\quad&\\geq\\quad\\quad (*)\\\\ \\\\ \n",
    "OPT - \\epsilon~OPT \\quad&=\\\\ \\\\\n",
    "(1-\\epsilon)~OPT\\quad\n",
    "\\end{align}\n",
    "$"
   ]
  },
  {
   "cell_type": "markdown",
   "metadata": {},
   "source": [
    "To conclude this prove, we need to show that, since $v_{max} \\leq OPT$ and since our choice of $k$ is \n",
    "$\n",
    "\\begin{align}\n",
    "k = \\frac{\\epsilon~v_{max}}{n}\n",
    "\\end{align}\n",
    "$\n",
    ":<br><br>\n",
    "$\n",
    "\\quad\\quad\\quad\n",
    "k~n ~=~ \\epsilon~v_{max} ~\\leq~ \\epsilon~OPT\n",
    "$"
   ]
  },
  {
   "cell_type": "markdown",
   "metadata": {},
   "source": [
    "To show the running time we need to consider:<br><br>\n",
    "$\n",
    "\\quad\\quad\\quad\n",
    "\\begin{align}\n",
    "\\tilde{v}_{max} ~=~ \\Big\\lfloor\\frac{v_{max}}{k}\\Big\\rfloor ~\\leq~ \\frac{v_{max}}{k} ~=~ v_{max}~ \\frac{n}{\\epsilon~v_{max}} ~=~ \\frac{n}{\\epsilon}\n",
    "\\end{align}\n",
    "$"
   ]
  },
  {
   "cell_type": "markdown",
   "metadata": {},
   "source": [
    "So the total running time is:<br><br>\n",
    "$\n",
    "\\quad\\quad\\quad\n",
    "O(n^2~\\tilde{v}_{max}) ~=~ O(n^3/\\epsilon)\n",
    "$"
   ]
  },
  {
   "cell_type": "code",
   "execution_count": null,
   "metadata": {},
   "outputs": [],
   "source": [
    "def knapsackApprox1eps( v, w, W, epsilon ):\n",
    "  n = len(v) # == len(w)\n",
    "  vmax = max(v)\n",
    "  k = float(epsilon) * float(vmax) / n\n",
    "  vtilde = [ int(math.floor(v[i]/k)) for i in xrange(n)]\n",
    "  print( 'k =', k  )\n",
    "  print( v )\n",
    "  print( vtilde )\n",
    "  Z = knapsackOptimalDP2set( vtilde, w, W )\n",
    "  S = [ (v[i], w[i]) for i in Z]\n",
    "  print(S, 'with total value', sum([ v for (v,w) in S]) )"
   ]
  },
  {
   "cell_type": "markdown",
   "metadata": {},
   "source": [
    "### Appendix"
   ]
  },
  {
   "cell_type": "code",
   "execution_count": 28,
   "metadata": {},
   "outputs": [],
   "source": [
    "def optimal_table(version=\"W\", sw=3):\n",
    "\n",
    "    d = draw.Drawing(1000, 700 + sw, origin=(0, 0), displayInline=False)\n",
    "\n",
    "    d.append(draw.Rectangle(60,100,800,500, fill='#FFF', stroke='black', stroke_width=sw))\n",
    "\n",
    "    #LINES\n",
    "    #i\n",
    "    d.append(draw.Line(10, 310, 900 + 2*sw, 310, stroke=\"black\"))\n",
    "    d.append(draw.Line(10, 350, 900 + 2*sw, 350, stroke=\"black\"))\n",
    "    #j\n",
    "    d.append(draw.Line(420, 50, 420, 650 + 2*sw, stroke=\"black\"))\n",
    "    d.append(draw.Line(460, 50, 460, 650 + 2*sw, stroke=\"black\"))\n",
    "    #j - w_j\n",
    "    d.append(draw.Line(250, 50, 250, 650 + 2*sw, stroke=\"black\"))\n",
    "    d.append(draw.Line(290, 50, 290, 650 + 2*sw, stroke=\"black\"))\n",
    "\n",
    "    #CIRCLES\n",
    "    #circles\n",
    "    d.append(draw.Circle(440, 370, 12, fill='#FFF', stroke_width=3, stroke='red'))\n",
    "    d.append(draw.Circle(270, 370, 12, fill='#FFF', stroke_width=3, stroke='red'))\n",
    "    #arrow\n",
    "    d.append(draw.Arc(355, 330, 100, 140, 40, cw=True, stroke='black', stroke_width=2, fill='none'))\n",
    "    d.append(draw.Line(277, 393, 285, 394, stroke_width=2, stroke=\"#000\"))\n",
    "    d.append(draw.Line(277, 393, 277, 400, stroke_width=2, stroke=\"#000\"))\n",
    "\n",
    "    #SQUARES\n",
    "    #current\n",
    "    d.append(draw.Rectangle(422, 312, 36, 36, fill=\"green\", opacity=0.5))\n",
    "    #solution\n",
    "    d.append(draw.Rectangle(815+sw if version==\"W\" else 570, 99+sw, 40, 40, fill=\"yellow\", opacity=0.5))\n",
    "    d.append(draw.Rectangle(820+sw if version==\"W\" else 574, 102+sw, 32, 32, fill=\"red\", opacity=0.4))\n",
    "    \n",
    "    if(version==\"Vmax\"):\n",
    "        #BRACKETS\n",
    "        #less\n",
    "        d.append(draw.Lines(60, 80, \n",
    "                           70, 75,\n",
    "                           345, 75,\n",
    "                           355, 66,\n",
    "                           365, 75, \n",
    "                           570, 75,\n",
    "                           580, 80, \n",
    "                           stroke_width=2, stroke=\"#000\", fill=\"none\"))\n",
    "        #greater\n",
    "        d.append(draw.Lines(600, 80, \n",
    "                           610, 75,\n",
    "                           720, 75,\n",
    "                           730, 66,\n",
    "                           740, 75, \n",
    "                           850, 75,\n",
    "                           860, 80, \n",
    "                           stroke_width=2, stroke=\"#000\", fill=\"none\"))\n",
    "\n",
    "    #TEXT\n",
    "    #j\n",
    "    d.append(draw.Text(\"j\", 16, 440, 620 + sw, center=0.5, fill=\"#000\", font_family=\"monospace\")) \n",
    "    #i\n",
    "    d.append(draw.Text(\"i\", 16, 35, 330, center=0.5, fill=\"#000\", font_family=\"monospace\")) \n",
    "    #i-1\n",
    "    d.append(draw.Text(\"i-1\", 16, 35, 370, center=0.5, fill=\"#000\", font_family=\"monospace\"))\n",
    "    #w_i/v_i\n",
    "    d.append(draw.Text(\"w\" if version==\"W\" else \"v\", 16, 352, 445, center=0.5, fill=\"#000\", font_family=\"monospace\")) \n",
    "    d.append(draw.Text(\"i\", 9, 360, 440, center=0.5, fill=\"#000\", font_family=\"monospace\")) \n",
    "    #j - w_i/j - v_i\n",
    "    d.append(draw.Text(\"j-w\" if version==\"W\" else \"j-v\", 16, 268, 620 + sw, center=0.5, fill=\"#000\", font_family=\"monospace\")) \n",
    "    d.append(draw.Text(\"i\", 9, 284, 614 + sw, center=0.5, fill=\"#000\", font_family=\"monospace\")) \n",
    "    #n\n",
    "    d.append(draw.Text(\"n\", 18, 40, 115, center=0.5, fill=\"#000\", font_family=\"monospace\")) \n",
    "    #0 vertical\n",
    "    d.append(draw.Text(\"0\", 16, 40, 585, center=0.5, fill=\"#000\", font_family=\"monospace\")) \n",
    "    #1 vertical\n",
    "    d.append(draw.Text(\"1\", 16, 40, 562, center=0.5, fill=\"#000\", font_family=\"monospace\")) \n",
    "    #... vertical\n",
    "    d.append(draw.Text(\".\", 16, 40, 546, center=0.5, fill=\"#000\", font_family=\"monospace\")) \n",
    "    d.append(draw.Text(\".\", 16, 40, 536, center=0.5, fill=\"#000\", font_family=\"monospace\")) \n",
    "    d.append(draw.Text(\".\", 16, 40, 526, center=0.5, fill=\"#000\", font_family=\"monospace\")) \n",
    "    #0 horiziontal\n",
    "    d.append(draw.Text(\"0\", 16, 70, 616, center=0.5, fill=\"#000\", font_family=\"monospace\")) \n",
    "    #1 vertical\n",
    "    d.append(draw.Text(\"1\", 16, 90, 616, center=0.5, fill=\"#000\", font_family=\"monospace\")) \n",
    "    #... horizontal\n",
    "    d.append(draw.Text(\".\", 16, 105, 620, center=0.5, fill=\"#000\", font_family=\"monospace\")) \n",
    "    d.append(draw.Text(\".\", 16, 115, 620, center=0.5, fill=\"#000\", font_family=\"monospace\")) \n",
    "    d.append(draw.Text(\".\", 16, 125, 620, center=0.5, fill=\"#000\", font_family=\"monospace\")) \n",
    "    #W\n",
    "    d.append(draw.Text(\"W\" if version==\"W\" else \"n*Vmax\", 16, 845 if version==\"W\" else 830, 620, center=0.5, fill=\"#000\", font_family=\"monospace\")) \n",
    "    if(version==\"Vmax\"):\n",
    "        #<=W\n",
    "        d.append(draw.Text(\"W\", 20, 360, 50, center=0.5, fill=\"#000\", font_family=\"monospace\")) \n",
    "        d.append(draw.Lines(350, 56, 342, 52, 350, 48, stroke_width=1, stroke=\"#000\", fill=\"none\"))\n",
    "        d.append(draw.Lines(342, 45, 350, 45, stroke_width=1, stroke=\"#000\", fill=\"none\"))\n",
    "        #>W\n",
    "        d.append(draw.Text(\"W\", 20, 735, 50, center=0.5, fill=\"#000\", font_family=\"monospace\")) \n",
    "        d.append(draw.Lines(717, 56, 725, 52, 717, 48, stroke_width=1, stroke=\"#000\", fill=\"none\"))\n",
    "        #d.append(draw.Lines(342, 45, 350, 45, stroke_width=1, stroke=\"#000\", fill=\"none\"))\n",
    "    \n",
    "    \n",
    "    d.setRenderSize(900)\n",
    "    return d"
   ]
  },
  {
   "cell_type": "code",
   "execution_count": 29,
   "metadata": {},
   "outputs": [],
   "source": [
    "def plot_bf():\n",
    "\n",
    "    G = nx.Graph()\n",
    "    pos = {\n",
    "        0: (3, 6),\n",
    "        1: (1, 5),\n",
    "        2: (5, 5),\n",
    "        3: (0, 4),\n",
    "        4: (2, 4),\n",
    "        5: (4, 4),\n",
    "        6: (6, 4),\n",
    "        7: (1, 3),\n",
    "        8: (3, 3),\n",
    "        9: (0, 2),\n",
    "        10: (2, 2),\n",
    "        11: (1, 1),\n",
    "        12: (3, 1),\n",
    "        13: (2, 0),\n",
    "        14: (4, 0)\n",
    "    }\n",
    "\n",
    "    bedges = [(0, 2), (1, 3), (2, 5), (2, 6), (4, 8), (7, 9), (10, 11), (12, 14)]\n",
    "    gedges = [(0, 1), (1, 4), (4, 7), (7, 10), (10, 12), (12, 13)]\n",
    "\n",
    "    elbl = {\n",
    "        (0, 1): \"0\",\n",
    "        (0, 2): \"1\",\n",
    "        (1, 4): \"1\",\n",
    "        (4, 7): \"0\",\n",
    "        (7, 10): \"1\",\n",
    "        (10, 12): \"1\",\n",
    "        (12, 13): \"0\"\n",
    "    }\n",
    "\n",
    "    nlbl = {\n",
    "        0: \"1\",\n",
    "        1: \"2\",\n",
    "        2: \"2\",\n",
    "        4: \"3\",\n",
    "        7: \"4\",\n",
    "        10: \"5\",\n",
    "        12: \"6\"\n",
    "    }\n",
    "\n",
    "    plt.figure(num=None, figsize=(8.0, 12.0))\n",
    "\n",
    "\n",
    "    nx.draw_networkx_nodes(G, pos, node_size=1000, nodelist=[0, 1, 2, 4, 7, 10, 12], node_color='red')\n",
    "    nx.draw_networkx_nodes(G, pos, node_size=1000, nodelist=[13, 14], node_color='green')\n",
    "    nx.draw_networkx_nodes(G, pos, node_size=1000, nodelist=[3, 5, 6, 8, 9, 11], node_color='white')\n",
    "\n",
    "    nx.draw_networkx_edges(G, pos, edgelist=bedges, width=2, edge_color='black')\n",
    "    nx.draw_networkx_edges(G, pos, edgelist=gedges, width=6, edge_color='orange')\n",
    "\n",
    "    nx.draw_networkx_edge_labels(G, pos, edge_labels=elbl, font_size=20)\n",
    "\n",
    "    nx.draw_networkx_labels(G, pos, nlbl, font_size=18, font_color=\"white\")\n",
    "\n",
    "    plt.axis(\"off\")\n",
    "    plt.margins(x=0.6, y=0.2)\n",
    "    plt.show()"
   ]
  },
  {
   "cell_type": "code",
   "execution_count": 43,
   "metadata": {},
   "outputs": [],
   "source": [
    "def printDataBF(v, w, W, best, bestS, print_table=True):\n",
    "    if print_table:\n",
    "        n = len(v)\n",
    "        print(\"   |\", end=\"\")\n",
    "        for i in range(1, n+1):\n",
    "            print(\"{0:4d}\".format(i), end=\"\")\n",
    "        print()\n",
    "\n",
    "        print(\"-\"*(n*4+6))\n",
    "\n",
    "        print(\" v |\", end=\"\")\n",
    "        for e in v:\n",
    "            print(\"{0:4d}\".format(e), end=\"\")\n",
    "        print()\n",
    "\n",
    "        print(\" w |\", end=\"\")\n",
    "        for e in w:\n",
    "            print(\"{0:4d}\".format(e), end=\"\")\n",
    "        print()\n",
    "\n",
    "        print(\" S |\", end=\"\")\n",
    "        for e in range(1, n+1):\n",
    "            if e in bestS:\n",
    "                print(\"{0:4d}\".format(1), end=\"\")\n",
    "            else:\n",
    "                print(\"{0:4d}\".format(0), end=\"\")\n",
    "        print(\"\\n\")\n",
    "    \n",
    "    print(\"Optimal value: \", best)\n",
    "    print(\"Optimal set: \", bestS)"
   ]
  },
  {
   "cell_type": "code",
   "execution_count": 45,
   "metadata": {},
   "outputs": [],
   "source": [
    "def printDataDP1(T, v, w, W, best, bestS, print_table=True):\n",
    "    if print_table:\n",
    "        n = len(v)\n",
    "        print(\"    |\", end=\"\")\n",
    "        for i in range(0, W+1):\n",
    "            print(\"{0:3d}\".format(i), end=\"\")\n",
    "        print()\n",
    "        print(\" \", \"-\"*((W+1)*3 + 4))\n",
    "        for i in range(n+1):\n",
    "            print(\"{0:3d} |\".format(i), end=\"\")\n",
    "            for j in range(W+1):\n",
    "                print(\"{0:3d}\".format(T[i][j]), end=\"\")\n",
    "            print()\n",
    "        print()\n",
    "\n",
    "    print(\"Optimal value: \", best)\n",
    "    print(\"Optimal set: \", bestS)"
   ]
  },
  {
   "cell_type": "code",
   "execution_count": 44,
   "metadata": {},
   "outputs": [],
   "source": [
    "def printDataDP2(T, v, w, W, best, bestS, print_table=True):\n",
    "    if print_table:\n",
    "        wsum, vmax, n = sum(w)+1, max(v), len(v)\n",
    "        lts = 0\n",
    "        while lts < n*vmax+1 and T[n][lts] < wsum:\n",
    "            lts += 1\n",
    "\n",
    "        print(\"    |\", end=\"\")\n",
    "        for i in range(0, lts+1):\n",
    "            print(\"{0:3d}\".format(i), end=\"\")\n",
    "        print(\" ...{0:3d}\".format(vmax*n))\n",
    "        print(\" \", \"-\"*((lts+2)*3 + 8))\n",
    "        print(\"{0:3d} |\".format(0), end=\"\")\n",
    "        for i in range(0, lts+1):\n",
    "            print(\"{0:3d}\".format(T[0][i]), end=\"\")\n",
    "        print(\" ...{0:3d}\".format(T[0][vmax*n]))\n",
    "\n",
    "        for i in range(1, n+1):\n",
    "            print(\"{0:3d} |{1:3d}\".format(i, T[i][0]), end=\"\")\n",
    "            for j in range(1, lts+1):\n",
    "                print(\"{0:3d}\".format(T[i][j]), end=\"\")\n",
    "            print(\" ...{0:3d}\".format(T[i][n*vmax]))\n",
    "        print()\n",
    "    \n",
    "    print(\"Optimal value: \", best)\n",
    "    print(\"Optimal set: \", bestS)"
   ]
  },
  {
   "cell_type": "code",
   "execution_count": 46,
   "metadata": {},
   "outputs": [],
   "source": [
    "def printDataGreedy(v, w, W, costS, S, print_table=True):\n",
    "    if print_table:\n",
    "        n = len(v)\n",
    "        print(\"   |\", end=\"\")\n",
    "        for i in range(1, n+1):\n",
    "            print(\"{0:5d}\".format(i), end=\"\")\n",
    "        print()\n",
    "        print(\"-\"*(n*5 + 6))\n",
    "        print(\" v |\", end=\"\")\n",
    "        for i in range(n):\n",
    "            print(\"{0:5d}\".format(v[i]), end=\"\")\n",
    "        print(\"\\n w |\", end=\"\")\n",
    "        for i in range(n):\n",
    "            print(\"{0:5d}\".format(w[i]), end=\"\")\n",
    "        print(\"\\n f |\", end=\"\")\n",
    "        for i in range(n):\n",
    "            print(\"{0:5.2f}\".format(float(v[i])/float(w[i])), end=\"\")\n",
    "        print(\"\\n\")\n",
    "    \n",
    "    print(\"Optimal value: \", costS)\n",
    "    print(\"Optimal set: \", S)"
   ]
  },
  {
   "cell_type": "code",
   "execution_count": 65,
   "metadata": {},
   "outputs": [],
   "source": [
    "class DrawingTable:\n",
    "\n",
    "    def __init__(self):\n",
    "        self.fs = 16\n",
    "        self.ff = \"monospace\"\n",
    "        self.offsetX = 50\n",
    "        self.offsetY = 120\n",
    "        self.offsetTop = 30\n",
    "        \n",
    "    def printData(self, v, w, W=0, S=set(), val=0, T=[[]], type=\"none\", print_table=True):\n",
    "        n = len(v)\n",
    "        \"\"\"\n",
    "        fs = 16\n",
    "        ff=\"monospace\"\n",
    "        offsetX = 50\n",
    "        offsetY = 120\n",
    "        offsetTop = 30\n",
    "        \"\"\"\n",
    "\n",
    "        if type == \"greedy\" or type == \"bf\":\n",
    "            d = draw.Drawing(self.offsetX + (n+1)*(self.fs*3), self.offsetY + (self.fs*2)*4.25 + self.offsetTop, origin=(0, 0), displayInline=False)\n",
    "\n",
    "            for i in range(n):\n",
    "                d.append(draw.Text(str(i+1), self.fs, self.offsetX + (i+1)*self.fs*3, self.offsetY + (self.fs*2)*3.25, center=-0.01, fill=\"#000\", font_family=self.ff))\n",
    "\n",
    "            d.append(draw.Text(\"v\", self.fs, self.offsetX, self.offsetY + (self.fs*2)*2, center=-0.01, fill=\"#000\", font_family=self.ff))\n",
    "            for i, e in enumerate(v):\n",
    "                d.append(draw.Text(str(e), self.fs, self.offsetX + (i+1)*self.fs*3, self.offsetY + (self.fs*2)*2, center=-0.01, fill=\"#000\", font_family=self.ff))\n",
    "\n",
    "            d.append(draw.Text(\"w\", self.fs, self.offsetX, self.offsetY + (self.fs*2)*1, center=-0.01, fill=\"#000\", font_family=self.ff))\n",
    "            for i, e in enumerate(w):\n",
    "                d.append(draw.Text(str(e), self.fs, self.offsetX + (i+1)*self.fs*3, self.offsetY + (self.fs*2)*1, center=-0.01, fill=\"#000\", font_family=self.ff))\n",
    "\n",
    "            if type==\"greedy\":\n",
    "                d.append(draw.Text(\"f\", self.fs, self.offsetX, self.offsetY + (self.fs*2)*0, center=-0.01, fill=\"#000\", font_family=self.ff))\n",
    "                for i, (vi, wi) in enumerate(zip(v, w)):\n",
    "                    d.append(draw.Text(\"{0:3.2f}\".format(float(vi)/float(wi)), self.fs-2, self.offsetX + (i+1)*self.fs*3, self.offsetY + (self.fs*2)*0, center=-0.01, fill=\"#000\", font_family=self.ff))\n",
    "\n",
    "            if type==\"bf\":\n",
    "                d.append(draw.Text(\"S\", self.fs, self.offsetX, self.offsetY + (self.fs*2)*0, center=-0.01, fill=\"#000\", font_family=self.ff))\n",
    "                for i in range(1, n+1):\n",
    "                    d.append(draw.Text(\"1\" if i in S else \"0\", self.fs, self.offsetX + (i)*self.fs*3, self.offsetY + (self.fs*2)*0, center=-0.01, fill=\"#000\", font_family=self.ff))\n",
    "\n",
    "            d.append(draw.Line(self.offsetX - self.fs, self.offsetY + (self.fs*2)*2.75 , self.offsetX + (n+1)*(self.fs*3), self.offsetY + (self.fs*2)*2.75, stroke_width=1, stroke=\"#000\"))\n",
    "            d.append(draw.Line(self.offsetX + self.fs, self.offsetY + (self.fs*2)*3.75 , self.offsetX + self.fs, self.offsetY - self.fs*0.5, stroke_width=1, stroke=\"#000\"))\n",
    "\n",
    "            d.append(draw.Text(\"Optimal value: \" + str(val), self.fs, self.offsetX, self.offsetY*0.5, center=0, fill=\"#000\", font_family=self.ff))\n",
    "            d.append(draw.Text(\"Optimal set: \" + str(S), self.fs, self.offsetX, self.offsetY*0.3, center=0, fill=\"#000\", font_family=self.ff))\n",
    "\n",
    "        if type == \"dp1\":\n",
    "            d = draw.Drawing(self.offsetX + (W+2)*(self.fs*2) if print_table else self.offsetX + (n+1)*(self.fs*3), self.offsetY + (self.fs*2)*(n+2.25) + self.offsetTop if print_table else self.offsetY, origin=(0, 0), displayInline=False)\n",
    "\n",
    "            if print_table:\n",
    "                for i in range(W+1):\n",
    "                    d.append(draw.Text(str(i), self.fs, self.offsetX + (i+1)*self.fs*2, self.offsetY + (self.fs*2)*(n + 1.25), center=-0.01, fill=\"#000\", font_family=self.ff))\n",
    "\n",
    "                for i in range(n+1):\n",
    "                    d.append(draw.Text(str(i), self.fs, self.offsetX, self.offsetY + (self.fs*2)*(n-i), center=-0.01, fill=\"#000\", font_family=self.ff))\n",
    "                    for j, e in enumerate(T[i]):\n",
    "                        d.append(draw.Text(str(T[i][j]), self.fs, self.offsetX + (j+1)*self.fs*2, self.offsetY + (self.fs*2)*(n-i), center=-0.01, fill=\"#000\", font_family=self.ff))\n",
    "\n",
    "                d.append(draw.Line(self.offsetX - self.fs, self.offsetY + (self.fs*2)*(n+0.75) , self.offsetX + (W+2)*(self.fs*2), self.offsetY + (self.fs*2)*(n+0.75), stroke_width=1, stroke=\"#000\"))\n",
    "                d.append(draw.Line(self.offsetX + self.fs, self.offsetY + (self.fs*2)*(n+1.75) , self.offsetX + self.fs, self.offsetY - self.fs*0.5, stroke_width=1, stroke=\"#000\"))\n",
    "\n",
    "            d.append(draw.Text(\"Optimal value: \" + str(val), self.fs, self.offsetX, self.offsetY*0.5, center=0, fill=\"#000\", font_family=self.ff))\n",
    "            d.append(draw.Text(\"Optimal set: \" + str(S), self.fs, self.offsetX, self.offsetY*0.3, center=0, fill=\"#000\", font_family=self.ff))\n",
    "\n",
    "        if type == \"dp2\":\n",
    "\n",
    "            if print_table:\n",
    "                wsum, vmax, n = sum(w)+1, max(v), len(v)\n",
    "                lts = 0\n",
    "                while lts < n*vmax+1 and T[n][lts] < wsum:\n",
    "                    lts += 1\n",
    "\n",
    "                d = draw.Drawing(self.offsetX + (lts+4)*(self.fs*2), self.offsetY + (self.fs*2)*(n+2.25) + self.offsetTop, origin=(0, 0), displayInline=False)\n",
    "\n",
    "                for i in range(lts+1):\n",
    "                    d.append(draw.Text(str(i), self.fs, self.offsetX + (i+1)*self.fs*2, self.offsetY + (self.fs*2)*(n + 1.25), center=-0.01, fill=\"#000\", font_family=self.ff))\n",
    "                d.append(draw.Text(\"...\", self.fs, self.offsetX + (lts+2)*self.fs*2, self.offsetY + (self.fs*2)*(n + 1.25), center=-0.01, fill=\"#000\", font_family=self.ff))\n",
    "                d.append(draw.Text(str(n*vmax), self.fs, self.offsetX + (lts+3)*self.fs*2, self.offsetY + (self.fs*2)*(n + 1.25), center=-0.01, fill=\"#000\", font_family=self.ff))\n",
    "\n",
    "                for i in range(n+1):\n",
    "                    d.append(draw.Text(str(i), self.fs, self.offsetX, self.offsetY + (self.fs*2)*(n-i), center=-0.01, fill=\"#000\", font_family=self.ff))\n",
    "                    for j, e in enumerate(T[i][:lts+1]):\n",
    "                        d.append(draw.Text(str(T[i][j]), self.fs, self.offsetX + (j+1)*self.fs*2, self.offsetY + (self.fs*2)*(n-i), center=-0.01, fill=\"#000\", font_family=self.ff))\n",
    "                    d.append(draw.Text(\"...\", self.fs, self.offsetX + (lts+2)*self.fs*2, self.offsetY + (self.fs*2)*(n - i), center=-0.01, fill=\"#000\", font_family=self.ff))\n",
    "                    d.append(draw.Text(str(T[i][n*vmax]), self.fs, self.offsetX + (lts+3)*self.fs*2, self.offsetY + (self.fs*2)*(n - i), center=-0.01, fill=\"#000\", font_family=self.ff))\n",
    "\n",
    "\n",
    "                d.append(draw.Line(self.offsetX - self.fs, self.offsetY + (self.fs*2)*(n+0.75) , self.offsetX + (lts+4)*(self.fs*2), self.offsetY + (self.fs*2)*(n+0.75), stroke_width=1, stroke=\"#000\"))\n",
    "                d.append(draw.Line(self.offsetX + self.fs, self.offsetY + (self.fs*2)*(n+1.75) , self.offsetX + self.fs, self.offsetY - self.fs*0.5, stroke_width=1, stroke=\"#000\"))\n",
    "            else:\n",
    "                d = draw.Drawing(self.offsetX + (n+1)*(self.fs*3), self.offsetY, origin=(0, 0), displayInline=False)\n",
    "\n",
    "            d.append(draw.Text(\"Optimal value: \" + str(val), self.fs, self.offsetX, self.offsetY*0.5, center=0, fill=\"#000\", font_family=self.ff))\n",
    "            d.append(draw.Text(\"Optimal set: \" + str(S), self.fs, self.offsetX, self.offsetY*0.3, center=0, fill=\"#000\", font_family=self.ff))\n",
    "\n",
    "            if print_table:\n",
    "                d.setRenderSize(1150)\n",
    "\n",
    "\n",
    "        return d\n",
    "    \n",
    "    def printSet(self, v, w, W=0, val=0, S=set(), T=[[]], type=\"none\"):\n",
    "        d = self.printData(v, w, W=W, val=val, S=S, T=T, type=type)\n",
    "        \n",
    "        if type==\"dp1\":\n",
    "            lp, i, j = [(n, W)], n, W\n",
    "            while(i>0 and j>=0):\n",
    "                if w[i-1] <= j:\n",
    "                    if T[i-1][j-w[i-1]] + v[i-1] > T[i-1][j] :\n",
    "                        lp += [(i-1, j - w[i-1])]\n",
    "                        j = j - w[i-1]\n",
    "                    else:\n",
    "                        lp += [(i-1, j)]\n",
    "                else:\n",
    "                    lp += [(i-1, j)]\n",
    "                i = i-1\n",
    "\n",
    "            d.append(draw.Circle(self.offsetX + (self.fs*2)*(lp[0][1]+1), self.offsetY + self.fs*((n-lp[0][0])*2 + 0.3), self.fs*0.8, fill=\"none\", stroke=\"red\", stroke_width=2.5))\n",
    "            for (l, k) in lp[1:]:\n",
    "                d.append(draw.Circle(self.offsetX + (self.fs*2)*(k+1), self.offsetY + self.fs*((n-l)*2 + 0.3), self.fs*0.8, fill=\"none\", stroke=\"orange\", stroke_width=2.5))\n",
    "            \n",
    "            for e in S:\n",
    "                d.append(draw.Circle(self.offsetX, self.offsetY + self.fs*((n-e)*2 + 0.3), self.fs*0.8, fill=\"none\", stroke=\"green\", stroke_width=2.5))\n",
    "\n",
    "            \n",
    "        if type==\"dp2\":\n",
    "            lp, i, j = [(n, val)], n, val\n",
    "            while(i>0 and j>=0):\n",
    "                if w[i-1] <= j:\n",
    "                    if T[i-1][j-v[i-1]] + w[i-1] < T[i-1][j] :\n",
    "                        lp += [(i-1, j - v[i-1])]\n",
    "                        j = j - v[i-1]\n",
    "                    else:\n",
    "                        lp += [(i-1, j)]\n",
    "                else:\n",
    "                    if w[i-1] < T[i-1][j] :\n",
    "                        lp += [(i-1, 0)]\n",
    "                    else:\n",
    "                        lp += [(i-1, j)]\n",
    "\n",
    "                i = i-1\n",
    "\n",
    "            d.append(draw.Circle(self.offsetX + (self.fs*2)*(lp[0][1]+1), self.offsetY + self.fs*((n-lp[0][0])*2 + 0.3), self.fs*0.8, fill=\"none\", stroke=\"red\", stroke_width=2.5))\n",
    "            for (l, k) in lp[1:]:\n",
    "                d.append(draw.Circle(self.offsetX + (self.fs*2)*(k+1), self.offsetY + self.fs*((n-l)*2 + 0.3), self.fs*0.8, fill=\"none\", stroke=\"orange\", stroke_width=2.5))\n",
    "            \n",
    "            for e in S:\n",
    "                d.append(draw.Circle(self.offsetX, self.offsetY + self.fs*((n-e)*2 + 0.3), self.fs*0.8, fill=\"none\", stroke=\"green\", stroke_width=2.5))\n",
    "        \n",
    "        return d\n"
   ]
  }
 ],
 "metadata": {
  "kernelspec": {
   "display_name": "Python 3",
   "language": "python",
   "name": "python3"
  },
  "language_info": {
   "codemirror_mode": {
    "name": "ipython",
    "version": 3
   },
   "file_extension": ".py",
   "mimetype": "text/x-python",
   "name": "python",
   "nbconvert_exporter": "python",
   "pygments_lexer": "ipython3",
   "version": "3.8.2"
  }
 },
 "nbformat": 4,
 "nbformat_minor": 4
}
